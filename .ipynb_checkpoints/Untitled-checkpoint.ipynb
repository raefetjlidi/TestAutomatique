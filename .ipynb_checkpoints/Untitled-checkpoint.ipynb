{
 "cells": [
  {
   "cell_type": "code",
   "execution_count": 3,
   "id": "1baa4da5-9946-45a9-b1ae-ba2277b9922d",
   "metadata": {},
   "outputs": [
    {
     "name": "stdout",
     "output_type": "stream",
     "text": [
      "Collecting openpyxl\n",
      "  Obtaining dependency information for openpyxl from https://files.pythonhosted.org/packages/c0/da/977ded879c29cbd04de313843e76868e6e13408a94ed6b987245dc7c8506/openpyxl-3.1.5-py2.py3-none-any.whl.metadata\n",
      "  Using cached openpyxl-3.1.5-py2.py3-none-any.whl.metadata (2.5 kB)\n",
      "Collecting et-xmlfile (from openpyxl)\n",
      "  Obtaining dependency information for et-xmlfile from https://files.pythonhosted.org/packages/c1/8b/5fe2cc11fee489817272089c4203e679c63b570a5aaeb18d852ae3cbba6a/et_xmlfile-2.0.0-py3-none-any.whl.metadata\n",
      "  Using cached et_xmlfile-2.0.0-py3-none-any.whl.metadata (2.7 kB)\n",
      "Using cached openpyxl-3.1.5-py2.py3-none-any.whl (250 kB)\n",
      "Using cached et_xmlfile-2.0.0-py3-none-any.whl (18 kB)\n",
      "Installing collected packages: et-xmlfile, openpyxl\n",
      "Successfully installed et-xmlfile-2.0.0 openpyxl-3.1.5\n",
      "Note: you may need to restart the kernel to use updated packages.\n"
     ]
    },
    {
     "name": "stderr",
     "output_type": "stream",
     "text": [
      "\n",
      "[notice] A new release of pip is available: 23.2.1 -> 25.0.1\n",
      "[notice] To update, run: python.exe -m pip install --upgrade pip\n"
     ]
    }
   ],
   "source": [
    "pip install openpyxl"
   ]
  },
  {
   "cell_type": "code",
   "execution_count": 15,
   "id": "8f5ba7d3-c144-482a-9638-73f393aff56c",
   "metadata": {},
   "outputs": [
    {
     "name": "stdout",
     "output_type": "stream",
     "text": [
      "['Causes de modification', \"En tant qu'utilisateur je souhaite ajouter une cause de modification\", \"Vérifier que la création d'une cause de modification est possible\", 'Tout utilisateur ayant les droits en ajout au niveau du module Action / cause de modification', '1- Action / cause de modification\\n2- Cliquer sur le bouton Ajouter\\n3- Renseigner le \"cause de modification\" et valider\\n4- Vérifier l\\'ajout de la cause de modification', 'Cause de modification est créée ']\n"
     ]
    }
   ],
   "source": [
    "import pandas as pd\n",
    "\n",
    "# Charger le fichier Excel\n",
    "df = pd.read_excel(r'C:\\Users\\raefet.jlidi\\Documents\\action.xlsx')\n",
    "\n",
    "# Afficher les noms des colonnes\n",
    "print(df.columns.tolist())  # Vérifier la liste des colonnes\n"
   ]
  },
  {
   "cell_type": "code",
   "execution_count": 20,
   "id": "8793ee74-3ac2-4300-a2be-e812067f7c40",
   "metadata": {},
   "outputs": [],
   "source": [
    "import pandas as pd\n",
    "import json\n",
    "import re\n",
    "\n",
    "# Charger le fichier Excel\n",
    "df = pd.read_excel(r'C:\\Users\\raefet.jlidi\\Documents\\testing.xlsx')\n",
    "\n",
    "# Nettoyage des espaces dans les noms des colonnes\n",
    "df.columns = df.columns.str.strip()\n",
    "\n",
    "# Créer une liste pour les données formatées en JSON\n",
    "intents = []\n",
    "\n",
    "# Variable pour mémoriser le dernier \"User Story\" valide\n",
    "last_user_story = None\n",
    "\n",
    "# Fonction pour extraire le tag basé sur la phrase après \"En tant qu'utilisateur, je veux\"\n",
    "def extract_tag_from_user_story(user_story):\n",
    "    match = re.search(r\"En tant qu'utilisateur, je veux\\s*(.*)\", user_story)\n",
    "    if match:\n",
    "        extracted_tag = match.group(1).strip()  # Renvoie la phrase après \"En tant qu'utilisateur, je veux\"\n",
    "        return extracted_tag if extracted_tag else 'Unknown'  # Si la phrase est vide, retourner 'Unknown'\n",
    "    return 'Unknown'\n",
    "\n",
    "# Fonction pour extraire un tag basé sur le contexte de la description ou des étapes\n",
    "def extract_tag_from_description(description):\n",
    "    # Liste de mots-clés à rechercher dans la description\n",
    "    keywords = ['document', 'recherche', 'ajouter', 'modifier', 'supprimer', 'type document', 'fonctionnalité']\n",
    "    \n",
    "    for keyword in keywords:\n",
    "        if keyword.lower() in description.lower():\n",
    "            return keyword  # Retourner le mot-clé trouvé comme tag\n",
    "        \n",
    "    return 'Unknown'  # Si aucun mot-clé n'est trouvé, retourner 'Unknown'\n",
    "\n",
    "# Boucle à travers chaque ligne du DataFrame\n",
    "for _, row in df.iterrows():\n",
    "    fonctionnalite = row['Fonctionnalités']  # Nom de la fonctionnalité (ex: Type document)\n",
    "    user_story = row['User Story'] if row['User Story'] else last_user_story  # Propager User Story si vide\n",
    "    description = row['Description']\n",
    "    comment_etapes = row['Comment? (Etapes)']\n",
    "    \n",
    "    # Si User Story est vide, garder le dernier User Story\n",
    "    if pd.isna(user_story):\n",
    "        user_story = last_user_story\n",
    "    \n",
    "    # Si 'User Story' et 'Description' sont valides, continuer\n",
    "    if pd.notna(user_story) and pd.notna(description) and pd.notna(comment_etapes):\n",
    "        # Extraire le tag à partir du User Story\n",
    "        user_story_tag = extract_tag_from_user_story(user_story)\n",
    "        \n",
    "        # Extraire le tag à partir de la Description ou des étapes\n",
    "        description_tag = extract_tag_from_description(description)\n",
    "        \n",
    "        # Utiliser un des deux tags (user_story_tag ou description_tag)\n",
    "        tag = description_tag if description_tag != 'Unknown' else user_story_tag\n",
    "        \n",
    "        # Créer l'objet intent pour cette ligne\n",
    "        intent = {\n",
    "            \"tag\": tag,  # Utilisation du tag extrait\n",
    "            \"patterns\": [user_story],  # Le User Story comme pattern\n",
    "            \"responses\": [description, comment_etapes]  # Description et étapes comme réponses\n",
    "        }\n",
    "        intents.append(intent)\n",
    "        \n",
    "        # Mettre à jour le dernier User Story\n",
    "        last_user_story = user_story\n",
    "\n",
    "# Créer un dictionnaire final JSON\n",
    "data = {\"intents\": intents}\n",
    "\n",
    "# Exporter le résultat dans un fichier JSON\n",
    "with open('outputacion.json', 'w') as f:\n",
    "    json.dump(data, f, indent=4, ensure_ascii=False)\n"
   ]
  },
  {
   "cell_type": "code",
   "execution_count": 19,
   "id": "512125e1-8c53-4d9a-8c89-4e631ffdb7f6",
   "metadata": {},
   "outputs": [
    {
     "name": "stdout",
     "output_type": "stream",
     "text": [
      "Les fichiers ont été fusionnés et enregistrés sous 'merged_output.xlsx'.\n"
     ]
    }
   ],
   "source": [
    "import pandas as pd\n",
    "\n",
    "# Charger les deux fichiers Excel\n",
    "df_testing = pd.read_excel(r'C:\\Users\\raefet.jlidi\\Documents\\testing.xlsx')\n",
    "df_action = pd.read_excel(r'C:\\Users\\raefet.jlidi\\Documents\\action.xlsx')\n",
    "\n",
    "# Fusionner les deux DataFrames (par exemple, par lignes)\n",
    "merged_df = pd.concat([df_testing, df_action], ignore_index=True)\n",
    "\n",
    "# Sauvegarder le DataFrame fusionné dans un nouveau fichier Excel\n",
    "merged_df.to_excel(r'C:\\Users\\raefet.jlidi\\Documents\\merged_output.xlsx', index=False)\n",
    "\n",
    "print(\"Les fichiers ont été fusionnés et enregistrés sous 'merged_output.xlsx'.\")\n"
   ]
  },
  {
   "cell_type": "code",
   "execution_count": null,
   "id": "bb78cef3-d79f-4a06-ac32-10294a1e3f6e",
   "metadata": {},
   "outputs": [],
   "source": []
  }
 ],
 "metadata": {
  "kernelspec": {
   "display_name": "Python 3 (ipykernel)",
   "language": "python",
   "name": "python3"
  },
  "language_info": {
   "codemirror_mode": {
    "name": "ipython",
    "version": 3
   },
   "file_extension": ".py",
   "mimetype": "text/x-python",
   "name": "python",
   "nbconvert_exporter": "python",
   "pygments_lexer": "ipython3",
   "version": "3.12.3"
  }
 },
 "nbformat": 4,
 "nbformat_minor": 5
}
